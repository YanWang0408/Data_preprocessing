# DATE_TRUNC
SELECT DATE_TRUNC('week', order_date) :: DATE AS delivr_week, SUM(meal_price * order_quantity) AS revenue
FROM meals
JOIN orders ON meals.meal_id = orders.meal_id
WHERE DATE_TRUNC('month', order_date) = '2018-06-01'
GROUP BY delivr_week
ORDER BY delivr_week ASC;

# CTE - Common Table Expressions
WITH monthly_cost AS (
  SELECT DATE_TRUNC('month', stocking_date)::DATE AS delivr_month, SUM(meal_cost * stocked_quantity) AS cost
  FROM meals
  JOIN stock ON meals.meal_id = stock.meal_id
  GROUP BY delivr_month)
SELECT avg(cost)
FROM monthly_cost
WHERE delivr_month < '2018-09-01';

# Window functions
# Running Total
WITH reg_dates AS (SELECT user_id, MIN(order_date) AS reg_date
  FROM orders
  GROUP BY user_id),
  regs AS (SELECT DATE_TRUNC('month', reg_date) :: DATE AS delivr_month, COUNT(DISTINCT user_id) AS regs
  FROM reg_dates
  GROUP BY delivr_month)

SELECT delivr_month, sum(regs)OVER(order by delivr_month ASC) AS regs_rt
FROM regs
ORDER BY delivr_month ASC;

# Window functions
# Lag
WITH mau AS (SELECT DATE_TRUNC('month', order_date) :: DATE AS delivr_month, COUNT(DISTINCT user_id) AS mau
  FROM orders
  GROUP BY delivr_month)

SELECT delivr_month,  mau, COALESCE(LAG(mau) over(order by delivr_month ASC),0) AS last_mau
FROM mau
ORDER BY delivr_month ASC;

#Growth Rate
WITH mau AS (SELECT DATE_TRUNC('month', order_date) :: DATE AS delivr_month, COUNT(DISTINCT user_id) AS mau
  FROM orders
  GROUP BY delivr_month),
  mau_with_lag AS (SELECT delivr_month,  mau,  GREATEST(LAG(mau) OVER (ORDER BY delivr_month ASC), 1) AS last_mau
  FROM mau)

SELECT delivr_month, ROUND((mau - last_mau)::NUMERIC / last_mau,2) AS growth
FROM mau_with_lag
ORDER BY delivr_month asc;

#Retention Rate
WITH user_monthly_activity AS (SELECT DISTINCT DATE_TRUNC('month', order_date) :: DATE AS delivr_month, user_id
  FROM orders)

SELECT previous.delivr_month, 
              ROUND(count(distinct current.user_id) :: numeric /greatest(count(distinct previous.user_id), 1),2) AS retention_rate
FROM user_monthly_activity AS previous
LEFT JOIN user_monthly_activity AS current
ON previous.user_id = current.user_id
AND previous.delivr_month = (current.delivr_month - INTERVAL '1 month')
GROUP BY previous.delivr_month
ORDER BY previous.delivr_month ASC;

